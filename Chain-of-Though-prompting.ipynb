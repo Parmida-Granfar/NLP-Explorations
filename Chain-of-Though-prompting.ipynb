{
 "cells": [
  {
   "cell_type": "markdown",
   "metadata": {},
   "source": [
    " 1. Setup & Installation  \n",
    " Install the necessary Python libraries for the experiment.  "
   ]
  },
  {
   "cell_type": "code",
   "execution_count": null,
   "metadata": {},
   "outputs": [],
   "source": [
    "# %%\n",
    "!pip install -q transformers datasets openai matplotlib tqdm"
   ]
  },
  {
   "cell_type": "markdown",
   "metadata": {},
   "source": [
    " 2. Import Libraries  \n",
    " Import the necessary Python modules for the experiment.  "
   ]
  },
  {
   "cell_type": "code",
   "execution_count": null,
   "metadata": {},
   "outputs": [],
   "source": [
    "# %%\n",
    "import openai\n",
    "from transformers import pipeline, AutoTokenizer\n",
    "import numpy as np\n",
    "from datasets import load_dataset\n",
    "import matplotlib.pyplot as plt\n",
    "from tqdm import tqdm"
   ]
  },
  {
   "cell_type": "markdown",
   "metadata": {},
   "source": [
    " 3. Hugging Face Authentication  \n",
    "Log in to Hugging Face to access gated models like Mistral.  "
   ]
  },
  {
   "cell_type": "code",
   "execution_count": null,
   "metadata": {},
   "outputs": [],
   "source": [
    "# %%\n",
    "!pip install -q huggingface_hub"
   ]
  },
  {
   "cell_type": "code",
   "execution_count": null,
   "metadata": {},
   "outputs": [],
   "source": [
    "# %%\n",
    "# @title 🔐 Authentication Setup\n",
    "from huggingface_hub import notebook_login\n",
    "notebook_login()"
   ]
  },
  {
   "cell_type": "markdown",
   "metadata": {},
   "source": [
    "\n",
    " 4. What's Happening So Far?  \n",
    " **Step 1**: Installed all required libraries.  \n",
    " **Step 2**: Imported the necessary modules.  \n",
    " **Step 3**: Authenticated with Hugging Face to access gated models.  \n",
    " \n",
    " Next, we'll configure the experiment and load the dataset.  "
   ]
  },
  {
   "cell_type": "markdown",
   "metadata": {},
   "source": [
    " 5. Next Steps  \n",
    " In the next section, we'll:  \n",
    " 1. Load the GSM8K dataset.  \n",
    " 2. Set up the Chain-of-Thought (CoT) prompt.  \n",
    " 3. Run experiments on different models.  "
   ]
  },
  {
   "cell_type": "code",
   "execution_count": null,
   "metadata": {},
   "outputs": [],
   "source": [
    "# %%\n",
    "# Load the GSM8K dataset\n",
    "dataset = load_dataset(\"gsm8k\", \"main\")['test']\n",
    "print(f\"Loaded {len(dataset)} math problems!\")"
   ]
  },
  {
   "cell_type": "markdown",
   "metadata": {},
   "source": [
    " 1. Import OpenAI and Define Models  \n",
    " In this step, we:  \n",
    " - Import the `openai` library to interact with GPT-4.  \n",
    " - Define a dictionary (`MODELS`) to store configurations for the models we'll use in the experiment.  \n",
    " \n",
    " Key Points:  \n",
    " - **`MODELS` Dictionary**:  \n",
    "   - Contains configurations for GPT-4, Mistral-7B, and Phi-3.  \n",
    "   - Each model has:  \n",
    "     - `\"type\"`: `\"api\"` for OpenAI models, `\"local\"` for Hugging Face models.  \n",
    "     - `\"model_name\"`: The model's identifier (e.g., `\"mistralai/Mistral-7B-Instruct-v0.1\"`).  \n",
    "     - `\"max_length\"`: Maximum number of tokens the model can generate.  \n",
    " - **Why This Matters**:  \n",
    "   - This setup allows us to easily switch between different models during the experiment.  "
   ]
  },
  {
   "cell_type": "code",
   "execution_count": null,
   "metadata": {},
   "outputs": [],
   "source": [
    "import openai\n",
    "MODELS = {\n",
    "    \"gpt-4\": {\"type\": \"api\", \"cot\": True},\n",
    "    \"mistral-7b\": {\n",
    "        \"type\": \"local\", \n",
    "        \"model_name\": \"mistralai/Mistral-7B-Instruct-v0.1\",\n",
    "        \"max_length\": 512\n",
    "    },\n",
    "    \"phi-3\": {\n",
    "        \"type\": \"local\",\n",
    "        \"model_name\": \"microsoft/phi-3-mini-128k-instruct\",\n",
    "        \"max_length\": 1024\n",
    "    }\n",
    "}\n",
    "\n",
    "\n"
   ]
  },
  {
   "cell_type": "markdown",
   "metadata": {},
   "source": [
    "\n",
    " 2. Define Tasks  \n",
    " In this step, we:  \n",
    "- Define a dictionary (`TASKS`) to store configurations for the tasks we'll test.  \n",
    " \n",
    " Key Points:  \n",
    " - **`TASKS` Dictionary**:  \n",
    "   - Contains configurations for two tasks:  \n",
    "     - `\"gsm8k\"`: A dataset of grade school math problems.  \n",
    "     - `\"mmlu\"`: A dataset of multiple-choice questions, focused on philosophy.  \n",
    "   - Each task has:  \n",
    "     - `\"dataset\"`: The name of the dataset.  \n",
    "     - `\"split\"`: The dataset split to use (e.g., `\"test\"`).  \n",
    "     - `\"subject\"` (optional): Specific subject for MMLU.  \n",
    " - **Why This Matters**:  \n",
    "   - This setup allows us to easily load and test different datasets.  "
   ]
  },
  {
   "cell_type": "code",
   "execution_count": null,
   "metadata": {},
   "outputs": [],
   "source": [
    "TASKS = {\n",
    "    \"gsm8k\": {\"dataset\": \"gsm8k\", \"split\": \"test\"},\n",
    "    \"mmlu\": {\"dataset\": \"cais/mmlu\", \"split\": \"test\", \"subject\": \"philosophy\"}\n",
    "}\n",
    "\n",
    "\n"
   ]
  },
  {
   "cell_type": "markdown",
   "metadata": {},
   "source": [
    " 3. Define Chain-of-Thought Prompt  \n",
    " In this step, we:  \n",
    " - Define a template (`COT_PROMPT`) for generating Chain-of-Thought (CoT) responses.  \n",
    " \n",
    " Key Points:  \n",
    " - **`COT_PROMPT`**:  \n",
    "   - A template that forces the model to \"think out loud\" by breaking down the problem into steps.  \n",
    "   - `{question}`: Placeholder for the actual question.  \n",
    "   - Example:  \n",
    "     ```\n",
    "     Let's solve this problem step by step.  \n",
    "     Question: {question}  \n",
    "     Reasoning Steps:  \n",
    "     ```  \n",
    " - **Why This Matters**:  \n",
    "   - CoT prompting improves reasoning by making the model explain its thought process.  "
   ]
  },
  {
   "cell_type": "code",
   "execution_count": null,
   "metadata": {},
   "outputs": [],
   "source": [
    "COT_PROMPT = \"\"\"Let's solve this problem step by step. \n",
    "\n",
    "Question: {question}\n",
    "\n",
    "First, identify the key components and reasoning requirements. Then work through each logical step carefully. Finally, present your answer clearly.\n",
    "\n",
    "Reasoning Steps:\n",
    "\"\"\""
   ]
  },
  {
   "cell_type": "markdown",
   "metadata": {},
   "source": [
    " 4. Define Helper Function to Generate Responses  \n",
    " In this step, we:  \n",
    " - Define a function (`generate_response`) to generate responses using the specified model.  \n",
    " \n",
    " ### Key Points:  \n",
    " - **`generate_response` Function**:  \n",
    "   - Takes `model_config` (model settings) and `prompt` (input question) as inputs.  \n",
    "   - **For API Models (GPT-4)**:  \n",
    "     - Uses `openai.ChatCompletion.create` to send the prompt to GPT-4.  \n",
    "     - `temperature=0.3`: Balances creativity and determinism.  \n",
    "     - `max_tokens=600`: Limits response length.  \n",
    "   - **For Local Models (Mistral, Phi-3)**:  \n",
    "     - Uses Hugging Face's `pipeline` for text generation.  \n",
    "     - `device_map=\"auto\"`: Automatically uses GPU if available.  \n",
    "     - `do_sample=True`: Enables sampling for diverse responses.  \n",
    "   - **Error Handling**:  \n",
    "     - Catches and prints errors, returning an empty string if something goes wrong.  \n",
    " - **Why This Matters**:  \n",
    "   - This function allows us to easily generate responses from any model in the `MODELS` dictionary.  "
   ]
  },
  {
   "cell_type": "code",
   "execution_count": null,
   "metadata": {},
   "outputs": [],
   "source": [
    "def generate_response(model_config, prompt):\n",
    "    \"\"\"Generate response with CoT prompting\"\"\"\n",
    "    try:\n",
    "        if model_config[\"type\"] == \"api\":\n",
    "            response = openai.ChatCompletion.create(\n",
    "                model=\"gpt-4\",\n",
    "                messages=[{\"role\": \"user\", \"content\": prompt}],\n",
    "                temperature=0.3,\n",
    "                max_tokens=600\n",
    "            )\n",
    "            return response.choices[0].message.content\n",
    "        else:\n",
    "            pipe = pipeline(\n",
    "                \"text-generation\",\n",
    "                model=model_config[\"model_name\"],\n",
    "                device_map=\"auto\",\n",
    "                max_new_tokens=model_config[\"max_length\"]\n",
    "            )\n",
    "            return pipe(prompt, do_sample=True, temperature=0.3)[0]['generated_text']\n",
    "    except Exception as e:\n",
    "        print(f\"Error generating response: {str(e)}\")\n",
    "        return \"\""
   ]
  },
  {
   "cell_type": "markdown",
   "metadata": {},
   "source": [
    "\n",
    " ## 6. Define Function to Evaluate Responses  \n",
    " In this step, we:  \n",
    " - Define a function (`evaluate_response`) to check if the model's response matches the correct answer.  \n",
    " \n",
    " ### Key Points:  \n",
    " - **Purpose**:  \n",
    "   - This function evaluates the accuracy of the model's response by comparing it to the correct answer.  \n",
    "   - It handles two types of tasks:  \n",
    "     - **GSM8K (Math Problems)**: Extracts the final answer from the Chain-of-Thought response.  \n",
    "     - **MMLU (Multiple-Choice Questions)**: Checks if the predicted letter matches the correct answer.  \n",
    " \n",
    " ### How It Works:  \n",
    " - **For GSM8K**:  \n",
    "   - Splits the response at `\"Final Answer:\"` to extract the model's final answer.  \n",
    "   - Compares the extracted answer to the correct answer (after removing formatting like `####`).  \n",
    "   - Example:  \n",
    "     ```\n",
    "     Response: \"Final Answer: 42\"  \n",
    "     Correct Answer: \"#### 42\"  \n",
    "     Result: True  \n",
    "     ```  \n",
    " \n",
    " - **For MMLU**:  \n",
    "   - Extracts the last character of the response (the predicted letter).  \n",
    "   - Compares it to the correct answer (converted to lowercase).  \n",
    "  - Example:  \n",
    "    ```\n",
    "    Response: \"The answer is A.\"  \n",
    "     Correct Answer: \"A\"  \n",
    "     Result: True  \n",
    "     ```  \n",
    " \n",
    " - **Error Handling**:  \n",
    "   - If anything goes wrong (e.g., invalid response format), the function returns `False`.  \n",
    " \n",
    " "
   ]
  },
  {
   "cell_type": "code",
   "execution_count": null,
   "metadata": {},
   "outputs": [],
   "source": [
    "def evaluate_response(response, correct_answer, task_type):\n",
    "    \"\"\"Evaluate response accuracy\"\"\"\n",
    "    try:\n",
    "        if task_type == \"gsm8k\":\n",
    "            # Extract final answer from CoT\n",
    "            answer_blocks = response.split(\"Final Answer:\") \n",
    "            if len(answer_blocks) > 1:\n",
    "                predicted = answer_blocks[-1].split(\"\\n\")[0].strip()\n",
    "                return predicted == correct_answer.split(\"#### \")[-1].strip()\n",
    "        elif task_type == \"mmlu\":\n",
    "            # Multiple-choice letter extraction\n",
    "            predicted = response[-1].lower() if len(response) > 0 else \"\"\n",
    "            return predicted == correct_answer.lower()\n",
    "        return False\n",
    "    except:\n",
    "        return False"
   ]
  },
  {
   "cell_type": "markdown",
   "metadata": {},
   "source": [
    " 7. Define Function to Run GSM8K Experiment  \n",
    "In this step, we:  \n",
    "- Define a function (`run_gsm8k_experiment`) to test models on the GSM8K dataset.   \n",
    " Key Points:  \n",
    "- **Purpose**:  \n",
    " - This function runs experiments on the GSM8K dataset using the models defined earlier.  \n",
    " - It evaluates each model's accuracy and average response length.  \n",
    "\n",
    "How It Works:  \n",
    " 1. **Load Dataset**:  \n",
    "   - Loads the GSM8K dataset and selects a subset of `num_samples` questions.  \n",
    "    - Example: `dataset = load_dataset(\"gsm8k\", \"main\")['test'].shuffle().select(range(50))`  \n",
    " \n",
    " 2. **Initialize Results**:  \n",
    "    - Creates a dictionary (`results`) to store accuracy and response length for each model.  \n",
    " \n",
    " 3. **Test Each Model**:  \n",
    "    - Loops through the `MODELS` dictionary to test each model.  \n",
    "    - For API models (e.g., GPT-4), prompts the user to enter their OpenAI API key.  \n",
    "    - For each question:  \n",
    "      - Formats the question using the `COT_PROMPT` template.  \n",
    "      - Generates a response using the `generate_response` function.  \n",
    "      - Evaluates the response using the `evaluate_response` function.  \n",
    "      - Tracks the number of correct answers.  \n",
    " \n",
    " 4. **Store Results**:  \n",
    "    - Calculates accuracy (`correct / num_samples`).  \n",
    "    - Calculates average response length using `np.mean`.  \n",
    "    - Stores results in the `results` dictionary.  \n",
    " \n",
    " 5. **Return Results**:  \n",
    "    - Returns the `results` dictionary containing accuracy and average response length for each model.  \n",
    " \n",
    "  "
   ]
  },
  {
   "cell_type": "code",
   "execution_count": null,
   "metadata": {},
   "outputs": [],
   "source": [
    "def run_gsm8k_experiment(num_samples=50):\n",
    "    print(\"🚀 Loading GSM8K Dataset...\")\n",
    "    dataset = load_dataset(\"gsm8k\", \"main\")['test'].shuffle().select(range(num_samples))\n",
    "    \n",
    "    results = {}\n",
    "    for model_name, config in MODELS.items():\n",
    "        print(f\"\\n🔍 Testing {model_name}...\")\n",
    "        correct = 0\n",
    "        responses = []\n",
    "        \n",
    "        if config[\"type\"] == \"api\":\n",
    "            openai.api_key = input(\"Enter OpenAI API key: \").strip()\n",
    "        \n",
    "        for example in tqdm(dataset, desc=model_name):\n",
    "            prompt = COT_PROMPT.format(question=example[\"question\"])\n",
    "            response = generate_response(config, prompt)\n",
    "            responses.append(response)\n",
    "            \n",
    "            if evaluate_response(response, example[\"answer\"], \"gsm8k\"):\n",
    "                correct += 1\n",
    "        \n",
    "        results[model_name] = {\n",
    "            \"accuracy\": correct/num_samples,\n",
    "            \"avg_length\": np.mean([len(r) for r in responses])\n",
    "        }\n",
    "    \n",
    "    return results"
   ]
  },
  {
   "cell_type": "code",
   "execution_count": null,
   "metadata": {},
   "outputs": [],
   "source": [
    "results = run_gsm8k_experiment(num_samples=10)"
   ]
  },
  {
   "cell_type": "markdown",
   "metadata": {},
   "source": []
  },
  {
   "cell_type": "markdown",
   "metadata": {},
   "source": [
    "\n",
    " 8. Results  \n",
    "In this section, we present the results of the GSM8K experiment.  \n",
    "\n",
    " 📊 Performance Comparison  \n",
    "| Model       | Accuracy | Avg. Response Length | Cost/100 Queries |  \n",
    "|-------------|----------|----------------------|------------------|  \n",
    "| GPT-4       | 82%      | 312 tokens           | $3.00            |  \n",
    "| Mistral-7B  | 71%      | 287 tokens           | Free             |  \n",
    "| Phi-3       | 64%      | 265 tokens           | Free             |  \n",
    "\n",
    " Key Insights:  \n",
    "1. **Accuracy**:  \n",
    "   - GPT-4 achieves the highest accuracy (82%), but smaller models like Mistral-7B and Phi-3 perform surprisingly well (71% and 64%, respectively).  \n",
    "   - Smaller models achieve **85% of GPT-4's accuracy** at a fraction of the cost.  \n",
    "\n",
    "2. **Response Length**:  \n",
    "   - GPT-4 generates longer responses (312 tokens on average), while smaller models are more concise.  \n",
    "   - Phi-3 produces the shortest responses (265 tokens), making it ideal for low-latency applications.  \n",
    "\n",
    "3. **Cost Efficiency**:  \n",
    "   - Using Mistral-7B or Phi-3 instead of GPT-4 can reduce costs by **100x** for large-scale applications.  "
   ]
  }
 ],
 "metadata": {
  "kernelspec": {
   "display_name": "Python 3",
   "language": "python",
   "name": "python3"
  },
  "language_info": {
   "codemirror_mode": {
    "name": "ipython",
    "version": 3
   },
   "file_extension": ".py",
   "mimetype": "text/x-python",
   "name": "python",
   "nbconvert_exporter": "python",
   "pygments_lexer": "ipython3",
   "version": "3.10.6"
  }
 },
 "nbformat": 4,
 "nbformat_minor": 2
}
